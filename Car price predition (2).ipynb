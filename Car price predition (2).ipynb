{
 "cells":[
  {
   "cell_type":"code",
   "source":[
    "import pandas as pd\n",
    "import numpy as np\n",
    "import matplotlib.pyplot as plt\n",
    "import seaborn as sns\n",
    "from sklearn.preprocessing import OneHotEncoder\n",
    "from sklearn.preprocessing import LabelEncoder\n",
    "import numpy as np\n",
    "import pandas as pd\n",
    "from sklearn.model_selection import train_test_split\n",
    "from sklearn.preprocessing import StandardScaler\n",
    "from sklearn.linear_model import Ridge\n",
    "from sklearn.metrics import mean_squared_error\n",
    "from sklearn.svm import SVR\n",
    "from sklearn.tree import DecisionTreeRegressor\n",
    "from sklearn.ensemble import RandomForestRegressor\n",
    "from sklearn.ensemble import GradientBoostingRegressor"
   ],
   "execution_count":39,
   "outputs":[
    
   ],
   "metadata":{
    "datalore":{
     "node_id":"M3WsDBMiYTRa48VamaUyhD",
     "type":"CODE",
     "hide_input_from_viewers":true,
     "hide_output_from_viewers":true
    }
   }
  },
  {
   "cell_type":"code",
   "source":[
    "car = pd.read_csv('\/data\/notebook_files\/car_prediction_data.csv')"
   ],
   "execution_count":40,
   "outputs":[
    
   ],
   "metadata":{
    "datalore":{
     "node_id":"wpYaq17LkckeutsA9VyIfs",
     "type":"CODE",
     "hide_input_from_viewers":true,
     "hide_output_from_viewers":true
    }
   }
  },
  {
   "cell_type":"code",
   "source":[
    "car.head()"
   ],
   "execution_count":41,
   "outputs":[
    {
     "data":{
      "text\/html":[
       "<div>\n",
       "<style scoped>\n",
       "    .dataframe tbody tr th:only-of-type {\n",
       "        vertical-align: middle;\n",
       "    }\n",
       "\n",
       "    .dataframe tbody tr th {\n",
       "        vertical-align: top;\n",
       "    }\n",
       "\n",
       "    .dataframe thead th {\n",
       "        text-align: right;\n",
       "    }\n",
       "<\/style>\n",
       "<table border=\"1\" class=\"dataframe\">\n",
       "  <thead>\n",
       "    <tr style=\"text-align: right;\">\n",
       "      <th><\/th>\n",
       "      <th>Car_Name<\/th>\n",
       "      <th>Year<\/th>\n",
       "      <th>Selling_Price<\/th>\n",
       "      <th>Present_Price<\/th>\n",
       "      <th>Kms_Driven<\/th>\n",
       "      <th>Fuel_Type<\/th>\n",
       "      <th>Seller_Type<\/th>\n",
       "      <th>Transmission<\/th>\n",
       "      <th>Owner<\/th>\n",
       "    <\/tr>\n",
       "  <\/thead>\n",
       "  <tbody>\n",
       "    <tr>\n",
       "      <th>0<\/th>\n",
       "      <td>ritz<\/td>\n",
       "      <td>2014<\/td>\n",
       "      <td>3.35<\/td>\n",
       "      <td>5.59<\/td>\n",
       "      <td>27000<\/td>\n",
       "      <td>Petrol<\/td>\n",
       "      <td>Dealer<\/td>\n",
       "      <td>Manual<\/td>\n",
       "      <td>0<\/td>\n",
       "    <\/tr>\n",
       "    <tr>\n",
       "      <th>1<\/th>\n",
       "      <td>sx4<\/td>\n",
       "      <td>2013<\/td>\n",
       "      <td>4.75<\/td>\n",
       "      <td>9.54<\/td>\n",
       "      <td>43000<\/td>\n",
       "      <td>Diesel<\/td>\n",
       "      <td>Dealer<\/td>\n",
       "      <td>Manual<\/td>\n",
       "      <td>0<\/td>\n",
       "    <\/tr>\n",
       "    <tr>\n",
       "      <th>2<\/th>\n",
       "      <td>ciaz<\/td>\n",
       "      <td>2017<\/td>\n",
       "      <td>7.25<\/td>\n",
       "      <td>9.85<\/td>\n",
       "      <td>6900<\/td>\n",
       "      <td>Petrol<\/td>\n",
       "      <td>Dealer<\/td>\n",
       "      <td>Manual<\/td>\n",
       "      <td>0<\/td>\n",
       "    <\/tr>\n",
       "    <tr>\n",
       "      <th>3<\/th>\n",
       "      <td>wagon r<\/td>\n",
       "      <td>2011<\/td>\n",
       "      <td>2.85<\/td>\n",
       "      <td>4.15<\/td>\n",
       "      <td>5200<\/td>\n",
       "      <td>Petrol<\/td>\n",
       "      <td>Dealer<\/td>\n",
       "      <td>Manual<\/td>\n",
       "      <td>0<\/td>\n",
       "    <\/tr>\n",
       "    <tr>\n",
       "      <th>4<\/th>\n",
       "      <td>swift<\/td>\n",
       "      <td>2014<\/td>\n",
       "      <td>4.60<\/td>\n",
       "      <td>6.87<\/td>\n",
       "      <td>42450<\/td>\n",
       "      <td>Diesel<\/td>\n",
       "      <td>Dealer<\/td>\n",
       "      <td>Manual<\/td>\n",
       "      <td>0<\/td>\n",
       "    <\/tr>\n",
       "  <\/tbody>\n",
       "<\/table>\n",
       "<\/div>"
      ]
     },
     "metadata":{
      
     },
     "output_type":"display_data"
    }
   ],
   "metadata":{
    "datalore":{
     "node_id":"pVYG0zI7F4JCajjQKHrdCw",
     "type":"CODE",
     "hide_input_from_viewers":true,
     "hide_output_from_viewers":false,
     "report_properties":{
      "rowId":"4KeWUAmaPoAGxNEo6IZZf2",
      "relativeY":0,
      "width":0.625,
      "height":17,
      "isDynamicHeight":false
     }
    }
   }
  },
  {
   "cell_type":"code",
   "source":[
    "car.info()"
   ],
   "execution_count":42,
   "outputs":[
    {
     "name":"stdout",
     "text":[
      "<class 'pandas.core.frame.DataFrame'>\n",
      "RangeIndex: 301 entries, 0 to 300\n",
      "Data columns (total 9 columns):\n",
      " #   Column         Non-Null Count  Dtype  \n",
      "---  ------         --------------  -----  \n",
      " 0   Car_Name       301 non-null    object \n",
      " 1   Year           301 non-null    int64  \n",
      " 2   Selling_Price  301 non-null    float64\n",
      " 3   Present_Price  301 non-null    float64\n",
      " 4   Kms_Driven     301 non-null    int64  \n",
      " 5   Fuel_Type      301 non-null    object \n",
      " 6   Seller_Type    301 non-null    object \n",
      " 7   Transmission   301 non-null    object \n",
      " 8   Owner          301 non-null    int64  \n",
      "dtypes: float64(2), int64(3), object(4)\n",
      "memory usage: 21.3+ KB\n"
     ],
     "output_type":"stream"
    }
   ],
   "metadata":{
    "datalore":{
     "node_id":"e36Nj2UyDqE66DteVFDwSP",
     "type":"CODE",
     "hide_input_from_viewers":true,
     "hide_output_from_viewers":false,
     "report_properties":{
      "rowId":"4KeWUAmaPoAGxNEo6IZZf2",
      "x":0.625,
      "relativeY":0,
      "width":0.375
     }
    }
   }
  },
  {
   "cell_type":"code",
   "source":[
    "car.Car_Name.value_counts().reset_index()"
   ],
   "execution_count":43,
   "outputs":[
    {
     "data":{
      "text\/html":[
       "<div>\n",
       "<style scoped>\n",
       "    .dataframe tbody tr th:only-of-type {\n",
       "        vertical-align: middle;\n",
       "    }\n",
       "\n",
       "    .dataframe tbody tr th {\n",
       "        vertical-align: top;\n",
       "    }\n",
       "\n",
       "    .dataframe thead th {\n",
       "        text-align: right;\n",
       "    }\n",
       "<\/style>\n",
       "<table border=\"1\" class=\"dataframe\">\n",
       "  <thead>\n",
       "    <tr style=\"text-align: right;\">\n",
       "      <th><\/th>\n",
       "      <th>index<\/th>\n",
       "      <th>Car_Name<\/th>\n",
       "    <\/tr>\n",
       "  <\/thead>\n",
       "  <tbody>\n",
       "    <tr>\n",
       "      <th>0<\/th>\n",
       "      <td>city<\/td>\n",
       "      <td>26<\/td>\n",
       "    <\/tr>\n",
       "    <tr>\n",
       "      <th>1<\/th>\n",
       "      <td>corolla altis<\/td>\n",
       "      <td>16<\/td>\n",
       "    <\/tr>\n",
       "    <tr>\n",
       "      <th>2<\/th>\n",
       "      <td>verna<\/td>\n",
       "      <td>14<\/td>\n",
       "    <\/tr>\n",
       "    <tr>\n",
       "      <th>3<\/th>\n",
       "      <td>fortuner<\/td>\n",
       "      <td>11<\/td>\n",
       "    <\/tr>\n",
       "    <tr>\n",
       "      <th>4<\/th>\n",
       "      <td>brio<\/td>\n",
       "      <td>10<\/td>\n",
       "    <\/tr>\n",
       "    <tr>\n",
       "      <th>...<\/th>\n",
       "      <td>...<\/td>\n",
       "      <td>...<\/td>\n",
       "    <\/tr>\n",
       "    <tr>\n",
       "      <th>93<\/th>\n",
       "      <td>Honda CB Trigger<\/td>\n",
       "      <td>1<\/td>\n",
       "    <\/tr>\n",
       "    <tr>\n",
       "      <th>94<\/th>\n",
       "      <td>Yamaha FZ S<\/td>\n",
       "      <td>1<\/td>\n",
       "    <\/tr>\n",
       "    <tr>\n",
       "      <th>95<\/th>\n",
       "      <td>Bajaj Pulsar 135 LS<\/td>\n",
       "      <td>1<\/td>\n",
       "    <\/tr>\n",
       "    <tr>\n",
       "      <th>96<\/th>\n",
       "      <td>Activa 4g<\/td>\n",
       "      <td>1<\/td>\n",
       "    <\/tr>\n",
       "    <tr>\n",
       "      <th>97<\/th>\n",
       "      <td>Bajaj Avenger Street 220<\/td>\n",
       "      <td>1<\/td>\n",
       "    <\/tr>\n",
       "  <\/tbody>\n",
       "<\/table>\n",
       "<p>98 rows × 2 columns<\/p>\n",
       "<\/div>"
      ]
     },
     "metadata":{
      
     },
     "output_type":"display_data"
    }
   ],
   "metadata":{
    "datalore":{
     "node_id":"gMmXVH9hWrAXWAkgzmNZcq",
     "type":"CODE",
     "hide_input_from_viewers":true,
     "hide_output_from_viewers":false,
     "report_properties":{
      "rowId":"x2P4KmksHeacmoAddpAcYI",
      "x":0,
      "relativeY":0,
      "width":0.3125,
      "height":22,
      "isDynamicHeight":false
     }
    }
   }
  },
  {
   "cell_type":"code",
   "source":[
    "df_fuel = car.Fuel_Type.value_counts().rename_axis('Fuel').reset_index(name='count')"
   ],
   "execution_count":44,
   "outputs":[
    
   ],
   "metadata":{
    "datalore":{
     "node_id":"ikwPwy4oZQboVbVgJevGuO",
     "type":"CODE",
     "hide_input_from_viewers":true,
     "hide_output_from_viewers":false,
     "report_properties":{
      "rowId":"x2P4KmksHeacmoAddpAcYI",
      "x":0.3125,
      "relativeY":0,
      "width":0.1875,
      "height":8,
      "splitHeight":2,
      "isDynamicHeight":false
     }
    }
   }
  },
  {
   "cell_type":"code",
   "source":[
    "sns.barplot(data=df_fuel,x='Fuel',y='count')\n",
    "plt.show()"
   ],
   "execution_count":45,
   "outputs":[
    {
     "data":{
      "image\/png":"[encoded data removed]"
     },
     "metadata":{
      "image\/png":{
       
      }
     },
     "output_type":"display_data"
    }
   ],
   "metadata":{
    "datalore":{
     "node_id":"l4mloV6vTMvnDU7KjoL0Qe",
     "type":"CODE",
     "hide_input_from_viewers":true,
     "hide_output_from_viewers":true
    }
   }
  },
  {
   "cell_type":"code",
   "source":[
    "df_seller = car.Seller_Type.value_counts().rename_axis('Seller Type').reset_index(name='count')"
   ],
   "execution_count":46,
   "outputs":[
    
   ],
   "metadata":{
    "datalore":{
     "node_id":"VojInFuzWKgORxNzohcecV",
     "type":"CODE",
     "hide_input_from_viewers":true,
     "hide_output_from_viewers":false,
     "report_properties":{
      "rowId":"x2P4KmksHeacmoAddpAcYI",
      "x":0.3125,
      "relativeY":8,
      "width":0.1875,
      "height":7,
      "splitHeight":2,
      "isDynamicHeight":false
     }
    }
   }
  },
  {
   "cell_type":"code",
   "source":[
    "sns.barplot(data=df_seller,x='Seller Type',y='count')\n",
    "plt.show()"
   ],
   "execution_count":47,
   "outputs":[
    {
     "data":{
      "image\/png":"[encoded data removed]"
     },
     "metadata":{
      "image\/png":{
       
      }
     },
     "output_type":"display_data"
    }
   ],
   "metadata":{
    "datalore":{
     "node_id":"NxHNFSV7mfFbk0dcTfg92W",
     "type":"CODE",
     "hide_input_from_viewers":true,
     "hide_output_from_viewers":true
    }
   }
  },
  {
   "cell_type":"code",
   "source":[
    "df_Transmission = car.Transmission.value_counts().rename_axis('Transmission').reset_index(name='count')"
   ],
   "execution_count":48,
   "outputs":[
    
   ],
   "metadata":{
    "datalore":{
     "node_id":"G78GTbsLjGV5YcjUxbmQCD",
     "type":"CODE",
     "hide_input_from_viewers":true,
     "hide_output_from_viewers":false,
     "report_properties":{
      "rowId":"x2P4KmksHeacmoAddpAcYI",
      "x":0.3125,
      "relativeY":15,
      "width":0.1875,
      "height":7,
      "isDynamicHeight":false
     }
    }
   }
  },
  {
   "cell_type":"code",
   "source":[
    "sns.barplot(data=df_Transmission,x='Transmission',y='count')\n",
    "plt.show()"
   ],
   "execution_count":49,
   "outputs":[
    {
     "data":{
      "image\/png":"[encoded data removed]"
     },
     "metadata":{
      "image\/png":{
       
      }
     },
     "output_type":"display_data"
    }
   ],
   "metadata":{
    "datalore":{
     "node_id":"yflspimQLcSzMVPuyjddFX",
     "type":"CODE",
     "hide_input_from_viewers":true,
     "hide_output_from_viewers":true
    }
   }
  },
  {
   "cell_type":"code",
   "source":[
    "sns.boxplot(x=car['Selling_Price'])\n",
    "plt.show()"
   ],
   "execution_count":50,
   "outputs":[
    {
     "data":{
      "image\/png":"[encoded data removed]"
     },
     "metadata":{
      "image\/png":{
       
      }
     },
     "output_type":"display_data"
    }
   ],
   "metadata":{
    "datalore":{
     "node_id":"inuc6mLW2e3YndW0EYJeL3",
     "type":"CODE",
     "hide_input_from_viewers":true,
     "hide_output_from_viewers":false,
     "report_properties":{
      "rowId":"aJ1vDFppJyTP0xuoQBjx0d",
      "x":0,
      "relativeY":0,
      "width":0.5,
      "height":17,
      "isDynamicHeight":false
     }
    }
   }
  },
  {
   "cell_type":"code",
   "source":[
    "sns.boxplot(x=car['Present_Price'])\n",
    "plt.show()"
   ],
   "execution_count":51,
   "outputs":[
    {
     "data":{
      "image\/png":"[encoded data removed]"
     },
     "metadata":{
      "image\/png":{
       
      }
     },
     "output_type":"display_data"
    }
   ],
   "metadata":{
    "datalore":{
     "node_id":"qFeDkqZekFx1WWdRW3hEfT",
     "type":"CODE",
     "hide_input_from_viewers":true,
     "hide_output_from_viewers":false,
     "report_properties":{
      "rowId":"x2P4KmksHeacmoAddpAcYI",
      "x":0.5,
      "relativeY":0,
      "width":0.49999999999999994,
      "height":22,
      "isDynamicHeight":false
     }
    }
   }
  },
  {
   "cell_type":"code",
   "source":[
    "sns.boxplot(x=car['Kms_Driven'])\n",
    "plt.show()"
   ],
   "execution_count":52,
   "outputs":[
    {
     "data":{
      "image\/png":"[encoded data removed]"
     },
     "metadata":{
      "image\/png":{
       
      }
     },
     "output_type":"display_data"
    }
   ],
   "metadata":{
    "datalore":{
     "node_id":"JkBBdLLM7Kex5p55FZd92P",
     "type":"CODE",
     "hide_input_from_viewers":true,
     "hide_output_from_viewers":false,
     "report_properties":{
      "rowId":"aJ1vDFppJyTP0xuoQBjx0d",
      "x":0.5,
      "relativeY":0,
      "width":0.49999999999999994,
      "height":17,
      "isDynamicHeight":false
     }
    }
   }
  },
  {
   "cell_type":"code",
   "source":[
    "car.describe()"
   ],
   "execution_count":53,
   "outputs":[
    {
     "data":{
      "text\/html":[
       "<div>\n",
       "<style scoped>\n",
       "    .dataframe tbody tr th:only-of-type {\n",
       "        vertical-align: middle;\n",
       "    }\n",
       "\n",
       "    .dataframe tbody tr th {\n",
       "        vertical-align: top;\n",
       "    }\n",
       "\n",
       "    .dataframe thead th {\n",
       "        text-align: right;\n",
       "    }\n",
       "<\/style>\n",
       "<table border=\"1\" class=\"dataframe\">\n",
       "  <thead>\n",
       "    <tr style=\"text-align: right;\">\n",
       "      <th><\/th>\n",
       "      <th>Year<\/th>\n",
       "      <th>Selling_Price<\/th>\n",
       "      <th>Present_Price<\/th>\n",
       "      <th>Kms_Driven<\/th>\n",
       "      <th>Owner<\/th>\n",
       "    <\/tr>\n",
       "  <\/thead>\n",
       "  <tbody>\n",
       "    <tr>\n",
       "      <th>count<\/th>\n",
       "      <td>301.000000<\/td>\n",
       "      <td>301.000000<\/td>\n",
       "      <td>301.000000<\/td>\n",
       "      <td>301.000000<\/td>\n",
       "      <td>301.000000<\/td>\n",
       "    <\/tr>\n",
       "    <tr>\n",
       "      <th>mean<\/th>\n",
       "      <td>2013.627907<\/td>\n",
       "      <td>4.661296<\/td>\n",
       "      <td>7.628472<\/td>\n",
       "      <td>36947.205980<\/td>\n",
       "      <td>0.043189<\/td>\n",
       "    <\/tr>\n",
       "    <tr>\n",
       "      <th>std<\/th>\n",
       "      <td>2.891554<\/td>\n",
       "      <td>5.082812<\/td>\n",
       "      <td>8.644115<\/td>\n",
       "      <td>38886.883882<\/td>\n",
       "      <td>0.247915<\/td>\n",
       "    <\/tr>\n",
       "    <tr>\n",
       "      <th>min<\/th>\n",
       "      <td>2003.000000<\/td>\n",
       "      <td>0.100000<\/td>\n",
       "      <td>0.320000<\/td>\n",
       "      <td>500.000000<\/td>\n",
       "      <td>0.000000<\/td>\n",
       "    <\/tr>\n",
       "    <tr>\n",
       "      <th>25%<\/th>\n",
       "      <td>2012.000000<\/td>\n",
       "      <td>0.900000<\/td>\n",
       "      <td>1.200000<\/td>\n",
       "      <td>15000.000000<\/td>\n",
       "      <td>0.000000<\/td>\n",
       "    <\/tr>\n",
       "    <tr>\n",
       "      <th>50%<\/th>\n",
       "      <td>2014.000000<\/td>\n",
       "      <td>3.600000<\/td>\n",
       "      <td>6.400000<\/td>\n",
       "      <td>32000.000000<\/td>\n",
       "      <td>0.000000<\/td>\n",
       "    <\/tr>\n",
       "    <tr>\n",
       "      <th>75%<\/th>\n",
       "      <td>2016.000000<\/td>\n",
       "      <td>6.000000<\/td>\n",
       "      <td>9.900000<\/td>\n",
       "      <td>48767.000000<\/td>\n",
       "      <td>0.000000<\/td>\n",
       "    <\/tr>\n",
       "    <tr>\n",
       "      <th>max<\/th>\n",
       "      <td>2018.000000<\/td>\n",
       "      <td>35.000000<\/td>\n",
       "      <td>92.600000<\/td>\n",
       "      <td>500000.000000<\/td>\n",
       "      <td>3.000000<\/td>\n",
       "    <\/tr>\n",
       "  <\/tbody>\n",
       "<\/table>\n",
       "<\/div>"
      ]
     },
     "metadata":{
      
     },
     "output_type":"display_data"
    }
   ],
   "metadata":{
    "datalore":{
     "node_id":"KDexPtykC5DSF8B9aQlAUz",
     "type":"CODE",
     "hide_input_from_viewers":true,
     "hide_output_from_viewers":true
    }
   }
  },
  {
   "cell_type":"code",
   "source":[
    "car.Fuel_Type = LabelEncoder().fit_transform(car.Fuel_Type)\n",
    "car.Car_Name = LabelEncoder().fit_transform(car.Car_Name)\n",
    "car.Seller_Type = LabelEncoder().fit_transform(car.Seller_Type)\n",
    "car.Transmission = LabelEncoder().fit_transform(car.Transmission)"
   ],
   "execution_count":54,
   "outputs":[
    
   ],
   "metadata":{
    "datalore":{
     "node_id":"4DJ1r80P02taBCNW2GYzIz",
     "type":"CODE",
     "hide_input_from_viewers":true,
     "hide_output_from_viewers":true
    }
   }
  },
  {
   "cell_type":"code",
   "source":[
    "car.head()"
   ],
   "execution_count":55,
   "outputs":[
    {
     "data":{
      "text\/html":[
       "<div>\n",
       "<style scoped>\n",
       "    .dataframe tbody tr th:only-of-type {\n",
       "        vertical-align: middle;\n",
       "    }\n",
       "\n",
       "    .dataframe tbody tr th {\n",
       "        vertical-align: top;\n",
       "    }\n",
       "\n",
       "    .dataframe thead th {\n",
       "        text-align: right;\n",
       "    }\n",
       "<\/style>\n",
       "<table border=\"1\" class=\"dataframe\">\n",
       "  <thead>\n",
       "    <tr style=\"text-align: right;\">\n",
       "      <th><\/th>\n",
       "      <th>Car_Name<\/th>\n",
       "      <th>Year<\/th>\n",
       "      <th>Selling_Price<\/th>\n",
       "      <th>Present_Price<\/th>\n",
       "      <th>Kms_Driven<\/th>\n",
       "      <th>Fuel_Type<\/th>\n",
       "      <th>Seller_Type<\/th>\n",
       "      <th>Transmission<\/th>\n",
       "      <th>Owner<\/th>\n",
       "    <\/tr>\n",
       "  <\/thead>\n",
       "  <tbody>\n",
       "    <tr>\n",
       "      <th>0<\/th>\n",
       "      <td>90<\/td>\n",
       "      <td>2014<\/td>\n",
       "      <td>3.35<\/td>\n",
       "      <td>5.59<\/td>\n",
       "      <td>27000<\/td>\n",
       "      <td>2<\/td>\n",
       "      <td>0<\/td>\n",
       "      <td>1<\/td>\n",
       "      <td>0<\/td>\n",
       "    <\/tr>\n",
       "    <tr>\n",
       "      <th>1<\/th>\n",
       "      <td>93<\/td>\n",
       "      <td>2013<\/td>\n",
       "      <td>4.75<\/td>\n",
       "      <td>9.54<\/td>\n",
       "      <td>43000<\/td>\n",
       "      <td>1<\/td>\n",
       "      <td>0<\/td>\n",
       "      <td>1<\/td>\n",
       "      <td>0<\/td>\n",
       "    <\/tr>\n",
       "    <tr>\n",
       "      <th>2<\/th>\n",
       "      <td>68<\/td>\n",
       "      <td>2017<\/td>\n",
       "      <td>7.25<\/td>\n",
       "      <td>9.85<\/td>\n",
       "      <td>6900<\/td>\n",
       "      <td>2<\/td>\n",
       "      <td>0<\/td>\n",
       "      <td>1<\/td>\n",
       "      <td>0<\/td>\n",
       "    <\/tr>\n",
       "    <tr>\n",
       "      <th>3<\/th>\n",
       "      <td>96<\/td>\n",
       "      <td>2011<\/td>\n",
       "      <td>2.85<\/td>\n",
       "      <td>4.15<\/td>\n",
       "      <td>5200<\/td>\n",
       "      <td>2<\/td>\n",
       "      <td>0<\/td>\n",
       "      <td>1<\/td>\n",
       "      <td>0<\/td>\n",
       "    <\/tr>\n",
       "    <tr>\n",
       "      <th>4<\/th>\n",
       "      <td>92<\/td>\n",
       "      <td>2014<\/td>\n",
       "      <td>4.60<\/td>\n",
       "      <td>6.87<\/td>\n",
       "      <td>42450<\/td>\n",
       "      <td>1<\/td>\n",
       "      <td>0<\/td>\n",
       "      <td>1<\/td>\n",
       "      <td>0<\/td>\n",
       "    <\/tr>\n",
       "  <\/tbody>\n",
       "<\/table>\n",
       "<\/div>"
      ]
     },
     "metadata":{
      
     },
     "output_type":"display_data"
    }
   ],
   "metadata":{
    "datalore":{
     "node_id":"60IGajxmPxfW69IQFUbQST",
     "type":"CODE",
     "hide_input_from_viewers":true,
     "hide_output_from_viewers":true
    }
   }
  },
  {
   "cell_type":"code",
   "source":[
    "car.describe()"
   ],
   "execution_count":56,
   "outputs":[
    {
     "data":{
      "text\/html":[
       "<div>\n",
       "<style scoped>\n",
       "    .dataframe tbody tr th:only-of-type {\n",
       "        vertical-align: middle;\n",
       "    }\n",
       "\n",
       "    .dataframe tbody tr th {\n",
       "        vertical-align: top;\n",
       "    }\n",
       "\n",
       "    .dataframe thead th {\n",
       "        text-align: right;\n",
       "    }\n",
       "<\/style>\n",
       "<table border=\"1\" class=\"dataframe\">\n",
       "  <thead>\n",
       "    <tr style=\"text-align: right;\">\n",
       "      <th><\/th>\n",
       "      <th>Car_Name<\/th>\n",
       "      <th>Year<\/th>\n",
       "      <th>Selling_Price<\/th>\n",
       "      <th>Present_Price<\/th>\n",
       "      <th>Kms_Driven<\/th>\n",
       "      <th>Fuel_Type<\/th>\n",
       "      <th>Seller_Type<\/th>\n",
       "      <th>Transmission<\/th>\n",
       "      <th>Owner<\/th>\n",
       "    <\/tr>\n",
       "  <\/thead>\n",
       "  <tbody>\n",
       "    <tr>\n",
       "      <th>count<\/th>\n",
       "      <td>301.000000<\/td>\n",
       "      <td>301.000000<\/td>\n",
       "      <td>301.000000<\/td>\n",
       "      <td>301.000000<\/td>\n",
       "      <td>301.000000<\/td>\n",
       "      <td>301.000000<\/td>\n",
       "      <td>301.000000<\/td>\n",
       "      <td>301.000000<\/td>\n",
       "      <td>301.000000<\/td>\n",
       "    <\/tr>\n",
       "    <tr>\n",
       "      <th>mean<\/th>\n",
       "      <td>62.571429<\/td>\n",
       "      <td>2013.627907<\/td>\n",
       "      <td>4.661296<\/td>\n",
       "      <td>7.628472<\/td>\n",
       "      <td>36947.205980<\/td>\n",
       "      <td>1.787375<\/td>\n",
       "      <td>0.352159<\/td>\n",
       "      <td>0.867110<\/td>\n",
       "      <td>0.043189<\/td>\n",
       "    <\/tr>\n",
       "    <tr>\n",
       "      <th>std<\/th>\n",
       "      <td>25.573535<\/td>\n",
       "      <td>2.891554<\/td>\n",
       "      <td>5.082812<\/td>\n",
       "      <td>8.644115<\/td>\n",
       "      <td>38886.883882<\/td>\n",
       "      <td>0.425801<\/td>\n",
       "      <td>0.478439<\/td>\n",
       "      <td>0.340021<\/td>\n",
       "      <td>0.247915<\/td>\n",
       "    <\/tr>\n",
       "    <tr>\n",
       "      <th>min<\/th>\n",
       "      <td>0.000000<\/td>\n",
       "      <td>2003.000000<\/td>\n",
       "      <td>0.100000<\/td>\n",
       "      <td>0.320000<\/td>\n",
       "      <td>500.000000<\/td>\n",
       "      <td>0.000000<\/td>\n",
       "      <td>0.000000<\/td>\n",
       "      <td>0.000000<\/td>\n",
       "      <td>0.000000<\/td>\n",
       "    <\/tr>\n",
       "    <tr>\n",
       "      <th>25%<\/th>\n",
       "      <td>47.000000<\/td>\n",
       "      <td>2012.000000<\/td>\n",
       "      <td>0.900000<\/td>\n",
       "      <td>1.200000<\/td>\n",
       "      <td>15000.000000<\/td>\n",
       "      <td>2.000000<\/td>\n",
       "      <td>0.000000<\/td>\n",
       "      <td>1.000000<\/td>\n",
       "      <td>0.000000<\/td>\n",
       "    <\/tr>\n",
       "    <tr>\n",
       "      <th>50%<\/th>\n",
       "      <td>69.000000<\/td>\n",
       "      <td>2014.000000<\/td>\n",
       "      <td>3.600000<\/td>\n",
       "      <td>6.400000<\/td>\n",
       "      <td>32000.000000<\/td>\n",
       "      <td>2.000000<\/td>\n",
       "      <td>0.000000<\/td>\n",
       "      <td>1.000000<\/td>\n",
       "      <td>0.000000<\/td>\n",
       "    <\/tr>\n",
       "    <tr>\n",
       "      <th>75%<\/th>\n",
       "      <td>82.000000<\/td>\n",
       "      <td>2016.000000<\/td>\n",
       "      <td>6.000000<\/td>\n",
       "      <td>9.900000<\/td>\n",
       "      <td>48767.000000<\/td>\n",
       "      <td>2.000000<\/td>\n",
       "      <td>1.000000<\/td>\n",
       "      <td>1.000000<\/td>\n",
       "      <td>0.000000<\/td>\n",
       "    <\/tr>\n",
       "    <tr>\n",
       "      <th>max<\/th>\n",
       "      <td>97.000000<\/td>\n",
       "      <td>2018.000000<\/td>\n",
       "      <td>35.000000<\/td>\n",
       "      <td>92.600000<\/td>\n",
       "      <td>500000.000000<\/td>\n",
       "      <td>2.000000<\/td>\n",
       "      <td>1.000000<\/td>\n",
       "      <td>1.000000<\/td>\n",
       "      <td>3.000000<\/td>\n",
       "    <\/tr>\n",
       "  <\/tbody>\n",
       "<\/table>\n",
       "<\/div>"
      ]
     },
     "metadata":{
      
     },
     "output_type":"display_data"
    }
   ],
   "metadata":{
    "datalore":{
     "node_id":"kxWKa9UxWwMNItZHC13WLw",
     "type":"CODE",
     "hide_input_from_viewers":true,
     "hide_output_from_viewers":false,
     "report_properties":{
      "rowId":"nJizZ4Dn7mrGrOBrlcXudw",
      "x":0,
      "relativeY":0,
      "width":0.7291666666666666,
      "height":16,
      "isDynamicHeight":false
     }
    }
   }
  },
  {
   "cell_type":"code",
   "source":[
    "car_corr = car.corr()\n",
    "car_corr['Selling_Price']"
   ],
   "execution_count":57,
   "outputs":[
    {
     "data":{
      "text\/html":[
       "<pre>Car_Name         0.499198\n",
       "Year             0.236141\n",
       "Selling_Price    1.000000\n",
       "Present_Price    0.878983\n",
       "Kms_Driven       0.029187\n",
       "Fuel_Type       -0.509467\n",
       "Seller_Type     -0.550724\n",
       "Transmission    -0.367128\n",
       "Owner           -0.088344\n",
       "Name: Selling_Price, dtype: float64<\/pre>"
      ]
     },
     "metadata":{
      
     },
     "output_type":"display_data"
    }
   ],
   "metadata":{
    "datalore":{
     "node_id":"3B4HibAIqONEASUDDQ6V1n",
     "type":"CODE",
     "hide_input_from_viewers":true,
     "hide_output_from_viewers":false,
     "report_properties":{
      "rowId":"nJizZ4Dn7mrGrOBrlcXudw",
      "x":0.7291666666666666,
      "relativeY":0,
      "width":0.2708333333333333,
      "height":16,
      "splitHeight":2,
      "isDynamicHeight":false
     }
    }
   }
  },
  {
   "cell_type":"code",
   "source":[
    "car.head()"
   ],
   "execution_count":58,
   "outputs":[
    {
     "data":{
      "text\/html":[
       "<div>\n",
       "<style scoped>\n",
       "    .dataframe tbody tr th:only-of-type {\n",
       "        vertical-align: middle;\n",
       "    }\n",
       "\n",
       "    .dataframe tbody tr th {\n",
       "        vertical-align: top;\n",
       "    }\n",
       "\n",
       "    .dataframe thead th {\n",
       "        text-align: right;\n",
       "    }\n",
       "<\/style>\n",
       "<table border=\"1\" class=\"dataframe\">\n",
       "  <thead>\n",
       "    <tr style=\"text-align: right;\">\n",
       "      <th><\/th>\n",
       "      <th>Car_Name<\/th>\n",
       "      <th>Year<\/th>\n",
       "      <th>Selling_Price<\/th>\n",
       "      <th>Present_Price<\/th>\n",
       "      <th>Kms_Driven<\/th>\n",
       "      <th>Fuel_Type<\/th>\n",
       "      <th>Seller_Type<\/th>\n",
       "      <th>Transmission<\/th>\n",
       "      <th>Owner<\/th>\n",
       "    <\/tr>\n",
       "  <\/thead>\n",
       "  <tbody>\n",
       "    <tr>\n",
       "      <th>0<\/th>\n",
       "      <td>90<\/td>\n",
       "      <td>2014<\/td>\n",
       "      <td>3.35<\/td>\n",
       "      <td>5.59<\/td>\n",
       "      <td>27000<\/td>\n",
       "      <td>2<\/td>\n",
       "      <td>0<\/td>\n",
       "      <td>1<\/td>\n",
       "      <td>0<\/td>\n",
       "    <\/tr>\n",
       "    <tr>\n",
       "      <th>1<\/th>\n",
       "      <td>93<\/td>\n",
       "      <td>2013<\/td>\n",
       "      <td>4.75<\/td>\n",
       "      <td>9.54<\/td>\n",
       "      <td>43000<\/td>\n",
       "      <td>1<\/td>\n",
       "      <td>0<\/td>\n",
       "      <td>1<\/td>\n",
       "      <td>0<\/td>\n",
       "    <\/tr>\n",
       "    <tr>\n",
       "      <th>2<\/th>\n",
       "      <td>68<\/td>\n",
       "      <td>2017<\/td>\n",
       "      <td>7.25<\/td>\n",
       "      <td>9.85<\/td>\n",
       "      <td>6900<\/td>\n",
       "      <td>2<\/td>\n",
       "      <td>0<\/td>\n",
       "      <td>1<\/td>\n",
       "      <td>0<\/td>\n",
       "    <\/tr>\n",
       "    <tr>\n",
       "      <th>3<\/th>\n",
       "      <td>96<\/td>\n",
       "      <td>2011<\/td>\n",
       "      <td>2.85<\/td>\n",
       "      <td>4.15<\/td>\n",
       "      <td>5200<\/td>\n",
       "      <td>2<\/td>\n",
       "      <td>0<\/td>\n",
       "      <td>1<\/td>\n",
       "      <td>0<\/td>\n",
       "    <\/tr>\n",
       "    <tr>\n",
       "      <th>4<\/th>\n",
       "      <td>92<\/td>\n",
       "      <td>2014<\/td>\n",
       "      <td>4.60<\/td>\n",
       "      <td>6.87<\/td>\n",
       "      <td>42450<\/td>\n",
       "      <td>1<\/td>\n",
       "      <td>0<\/td>\n",
       "      <td>1<\/td>\n",
       "      <td>0<\/td>\n",
       "    <\/tr>\n",
       "  <\/tbody>\n",
       "<\/table>\n",
       "<\/div>"
      ]
     },
     "metadata":{
      
     },
     "output_type":"display_data"
    }
   ],
   "metadata":{
    "datalore":{
     "node_id":"vUGXyxYXSv5oZTVE1MA42D",
     "type":"CODE",
     "hide_input_from_viewers":true,
     "hide_output_from_viewers":true
    }
   }
  },
  {
   "cell_type":"code",
   "source":[
    "car.info()"
   ],
   "execution_count":59,
   "outputs":[
    {
     "name":"stdout",
     "text":[
      "<class 'pandas.core.frame.DataFrame'>\n",
      "RangeIndex: 301 entries, 0 to 300\n",
      "Data columns (total 9 columns):\n",
      " #   Column         Non-Null Count  Dtype  \n",
      "---  ------         --------------  -----  \n",
      " 0   Car_Name       301 non-null    int64  \n",
      " 1   Year           301 non-null    int64  \n",
      " 2   Selling_Price  301 non-null    float64\n",
      " 3   Present_Price  301 non-null    float64\n",
      " 4   Kms_Driven     301 non-null    int64  \n",
      " 5   Fuel_Type      301 non-null    int64  \n",
      " 6   Seller_Type    301 non-null    int64  \n",
      " 7   Transmission   301 non-null    int64  \n",
      " 8   Owner          301 non-null    int64  \n",
      "dtypes: float64(2), int64(7)\n",
      "memory usage: 21.3 KB\n"
     ],
     "output_type":"stream"
    }
   ],
   "metadata":{
    "datalore":{
     "node_id":"JoOFKsKqIf4H8Y0rema2N9",
     "type":"CODE",
     "hide_input_from_viewers":true,
     "hide_output_from_viewers":true
    }
   }
  },
  {
   "cell_type":"code",
   "source":[
    "from sklearn.linear_model import LinearRegression,Lasso,Ridge\n",
    "from sklearn.svm import SVC\n",
    "from sklearn.model_selection import cross_val_score,KFold\n",
    "from sklearn.model_selection import train_test_split"
   ],
   "execution_count":60,
   "outputs":[
    
   ],
   "metadata":{
    "datalore":{
     "node_id":"CuKXVDNv2QIDxnXDIP3rtW",
     "type":"CODE",
     "hide_input_from_viewers":true,
     "hide_output_from_viewers":true
    }
   }
  },
  {
   "cell_type":"code",
   "source":[
    "X = car.drop(['Selling_Price', 'Car_Name'], axis=1)\n",
    "y = car['Selling_Price']"
   ],
   "execution_count":61,
   "outputs":[
    
   ],
   "metadata":{
    "datalore":{
     "node_id":"EtcDLYkr71LOA8h7JDDC5B",
     "type":"CODE",
     "hide_input_from_viewers":true,
     "hide_output_from_viewers":true
    }
   }
  },
  {
   "cell_type":"code",
   "source":[
    "x_train,x_test,y_train,y_test = train_test_split(X,y,test_size=0.2,random_state=42)"
   ],
   "execution_count":62,
   "outputs":[
    
   ],
   "metadata":{
    "datalore":{
     "node_id":"IKqpfdYJfWStPeQEsMKUaT",
     "type":"CODE",
     "hide_input_from_viewers":true,
     "hide_output_from_viewers":true
    }
   }
  },
  {
   "cell_type":"code",
   "source":[
    "models = {'lr':LinearRegression(),'lasso':Lasso(),'ridge':Ridge(),'Decision Tree Regressor':DecisionTreeRegressor(),'Support Vector Regression':SVR(),'Random Forest Regressor':RandomForestRegressor(),'Gradient Boosting Regressor':GradientBoostingRegressor()}"
   ],
   "execution_count":63,
   "outputs":[
    
   ],
   "metadata":{
    "datalore":{
     "node_id":"ZIFS5i9SguJgF8Va7D4g5W",
     "type":"CODE",
     "hide_input_from_viewers":true,
     "hide_output_from_viewers":true
    }
   }
  },
  {
   "cell_type":"code",
   "source":[
    "results = []\n",
    "for model in models.values():\n",
    "    kf = KFold(n_splits=5,shuffle=True,random_state=42)\n",
    "    cv_result = cross_val_score(model,X,y,cv=kf)\n",
    "    results.append(cv_result)"
   ],
   "execution_count":64,
   "outputs":[
    
   ],
   "metadata":{
    "datalore":{
     "node_id":"RDYpkPvi9w85UMgmlcdqZ4",
     "type":"CODE",
     "hide_input_from_viewers":true,
     "hide_output_from_viewers":true
    }
   }
  },
  {
   "cell_type":"code",
   "source":[
    "plt.figure(figsize=(20,8))\n",
    "plt.boxplot(results, labels=models.keys())\n",
    "plt.show()"
   ],
   "execution_count":65,
   "outputs":[
    {
     "data":{
      "image\/png":"[encoded data removed]"
     },
     "metadata":{
      "image\/png":{
       
      }
     },
     "output_type":"display_data"
    }
   ],
   "metadata":{
    "datalore":{
     "node_id":"PULjNTGaQqdf1dOchZeX9W",
     "type":"CODE",
     "hide_input_from_viewers":true,
     "hide_output_from_viewers":false,
     "report_properties":{
      "rowId":"EtDunsz5wlwM5ldhvbNNRi",
      "x":0,
      "relativeY":0,
      "width":0.5208333333333333,
      "height":16,
      "isDynamicHeight":false
     }
    }
   }
  },
  {
   "cell_type":"code",
   "source":[
    "for name, model in models.items():\n",
    "    model.fit(x_train, y_train) \n",
    "    test_score = model.score(x_test, y_test)\n",
    "    print(\"{} Test Set Accuracy: {}\".format(name, test_score))"
   ],
   "execution_count":66,
   "outputs":[
    {
     "name":"stdout",
     "text":[
      "lr Test Set Accuracy: 0.8468053957655803\n",
      "lasso Test Set Accuracy: 0.798551246128469\n",
      "ridge Test Set Accuracy: 0.8474451929881059\n",
      "Decision Tree Regressor Test Set Accuracy: 0.9454030727963618\n",
      "Support Vector Regression Test Set Accuracy: -0.09528098513804473\n",
      "Random Forest Regressor Test Set Accuracy: 0.9634837339646395\n",
      "Gradient Boosting Regressor Test Set Accuracy: 0.9721699329913661\n"
     ],
     "output_type":"stream"
    }
   ],
   "metadata":{
    "datalore":{
     "node_id":"AW2uk0CPF8pGUstTDCPuVL",
     "type":"CODE",
     "hide_input_from_viewers":true,
     "hide_output_from_viewers":false,
     "report_properties":{
      "rowId":"EtDunsz5wlwM5ldhvbNNRi",
      "x":0.5208333333333334,
      "relativeY":0,
      "width":0.4791666666666666,
      "height":16,
      "isDynamicHeight":false
     }
    }
   }
  },
  {
   "cell_type":"markdown",
   "source":[
    "# **Gradient Boosting Regressor is Best Model**"
   ],
   "attachments":{
    
   },
   "metadata":{
    "datalore":{
     "node_id":"UMgyJzFOSLqKJxemM7BHcP",
     "type":"MD",
     "hide_input_from_viewers":true,
     "hide_output_from_viewers":true
    }
   }
  }
 ],
 "metadata":{
  "kernelspec":{
   "display_name":"Python",
   "language":"python",
   "name":"python"
  },
  "datalore":{
   "computation_mode":"JUPYTER",
   "package_manager":"pip",
   "base_environment":"default",
   "packages":[
    
   ],
   "report_row_ids":[
    "4KeWUAmaPoAGxNEo6IZZf2",
    "x2P4KmksHeacmoAddpAcYI",
    "aJ1vDFppJyTP0xuoQBjx0d",
    "nJizZ4Dn7mrGrOBrlcXudw",
    "EtDunsz5wlwM5ldhvbNNRi"
   ],
   "version":3
  }
 },
 "nbformat":4,
 "nbformat_minor":4
}